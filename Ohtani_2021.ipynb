{
 "cells": [
  {
   "cell_type": "code",
   "execution_count": 1,
   "id": "94e38e34-88ee-4d06-9897-cc3c269b7ba3",
   "metadata": {},
   "outputs": [],
   "source": [
    "# import depenedencies\n",
    "import pandas as pd\n",
    "from matplotlib import pyplot as plt\n",
    "import seaborn as sns"
   ]
  },
  {
   "cell_type": "code",
   "execution_count": 2,
   "id": "e84c9c73-5c0b-498c-990d-ed243aba7b10",
   "metadata": {},
   "outputs": [],
   "source": [
    "# load data\n",
    "ohtani = pd.read_csv(\"660271_data.csv\")"
   ]
  },
  {
   "cell_type": "code",
   "execution_count": 3,
   "id": "17616d02-08e9-41a5-898b-310b2643d693",
   "metadata": {},
   "outputs": [
    {
     "data": {
      "text/html": [
       "<div><div id=a694d751-f7ed-4aab-9810-2bbd0c70f7e9 style=\"display:none; background-color:#9D6CFF; color:white; width:200px; height:30px; padding-left:5px; border-radius:4px; flex-direction:row; justify-content:space-around; align-items:center;\" onmouseover=\"this.style.backgroundColor='#BA9BF8'\" onmouseout=\"this.style.backgroundColor='#9D6CFF'\" onclick=\"window.commands?.execute('create-mitosheet-from-dataframe-output');\">See Full Dataframe in Mito</div> <script> if (window.commands.hasCommand('create-mitosheet-from-dataframe-output')) document.getElementById('a694d751-f7ed-4aab-9810-2bbd0c70f7e9').style.display = 'flex' </script> <table border=\"1\" class=\"dataframe\">\n",
       "  <thead>\n",
       "    <tr style=\"text-align: right;\">\n",
       "      <th></th>\n",
       "      <th>pitch_type</th>\n",
       "      <th>game_date</th>\n",
       "      <th>release_speed</th>\n",
       "      <th>release_pos_x</th>\n",
       "      <th>release_pos_z</th>\n",
       "      <th>player_name</th>\n",
       "      <th>batter</th>\n",
       "      <th>pitcher</th>\n",
       "      <th>events</th>\n",
       "      <th>description</th>\n",
       "      <th>...</th>\n",
       "      <th>fld_score</th>\n",
       "      <th>post_away_score</th>\n",
       "      <th>post_home_score</th>\n",
       "      <th>post_bat_score</th>\n",
       "      <th>post_fld_score</th>\n",
       "      <th>if_fielding_alignment</th>\n",
       "      <th>of_fielding_alignment</th>\n",
       "      <th>spin_axis</th>\n",
       "      <th>delta_home_win_exp</th>\n",
       "      <th>delta_run_exp</th>\n",
       "    </tr>\n",
       "  </thead>\n",
       "  <tbody>\n",
       "    <tr>\n",
       "      <th>0</th>\n",
       "      <td>CH</td>\n",
       "      <td>2022-07-13</td>\n",
       "      <td>82.6</td>\n",
       "      <td>-2.12</td>\n",
       "      <td>5.39</td>\n",
       "      <td>Ohtani, Shohei</td>\n",
       "      <td>660271</td>\n",
       "      <td>664299</td>\n",
       "      <td>walk</td>\n",
       "      <td>blocked_ball</td>\n",
       "      <td>...</td>\n",
       "      <td>1</td>\n",
       "      <td>1</td>\n",
       "      <td>3</td>\n",
       "      <td>3</td>\n",
       "      <td>1</td>\n",
       "      <td>Infield shift</td>\n",
       "      <td>Standard</td>\n",
       "      <td>307.0</td>\n",
       "      <td>0.013</td>\n",
       "      <td>0.057</td>\n",
       "    </tr>\n",
       "    <tr>\n",
       "      <th>1</th>\n",
       "      <td>CH</td>\n",
       "      <td>2022-07-13</td>\n",
       "      <td>83.9</td>\n",
       "      <td>-2.05</td>\n",
       "      <td>5.51</td>\n",
       "      <td>Ohtani, Shohei</td>\n",
       "      <td>660271</td>\n",
       "      <td>664299</td>\n",
       "      <td>NaN</td>\n",
       "      <td>ball</td>\n",
       "      <td>...</td>\n",
       "      <td>1</td>\n",
       "      <td>1</td>\n",
       "      <td>3</td>\n",
       "      <td>3</td>\n",
       "      <td>1</td>\n",
       "      <td>Infield shift</td>\n",
       "      <td>Standard</td>\n",
       "      <td>217.0</td>\n",
       "      <td>0.000</td>\n",
       "      <td>0.086</td>\n",
       "    </tr>\n",
       "    <tr>\n",
       "      <th>2</th>\n",
       "      <td>CH</td>\n",
       "      <td>2022-07-13</td>\n",
       "      <td>85.1</td>\n",
       "      <td>-2.00</td>\n",
       "      <td>5.47</td>\n",
       "      <td>Ohtani, Shohei</td>\n",
       "      <td>660271</td>\n",
       "      <td>664299</td>\n",
       "      <td>NaN</td>\n",
       "      <td>ball</td>\n",
       "      <td>...</td>\n",
       "      <td>1</td>\n",
       "      <td>1</td>\n",
       "      <td>3</td>\n",
       "      <td>3</td>\n",
       "      <td>1</td>\n",
       "      <td>Infield shift</td>\n",
       "      <td>Standard</td>\n",
       "      <td>232.0</td>\n",
       "      <td>0.000</td>\n",
       "      <td>0.053</td>\n",
       "    </tr>\n",
       "    <tr>\n",
       "      <th>3</th>\n",
       "      <td>CH</td>\n",
       "      <td>2022-07-13</td>\n",
       "      <td>85.2</td>\n",
       "      <td>-1.98</td>\n",
       "      <td>5.36</td>\n",
       "      <td>Ohtani, Shohei</td>\n",
       "      <td>660271</td>\n",
       "      <td>664299</td>\n",
       "      <td>NaN</td>\n",
       "      <td>blocked_ball</td>\n",
       "      <td>...</td>\n",
       "      <td>1</td>\n",
       "      <td>1</td>\n",
       "      <td>3</td>\n",
       "      <td>3</td>\n",
       "      <td>1</td>\n",
       "      <td>Infield shift</td>\n",
       "      <td>Standard</td>\n",
       "      <td>249.0</td>\n",
       "      <td>0.000</td>\n",
       "      <td>0.038</td>\n",
       "    </tr>\n",
       "    <tr>\n",
       "      <th>4</th>\n",
       "      <td>FF</td>\n",
       "      <td>2022-07-13</td>\n",
       "      <td>95.5</td>\n",
       "      <td>-1.73</td>\n",
       "      <td>5.43</td>\n",
       "      <td>Ohtani, Shohei</td>\n",
       "      <td>660271</td>\n",
       "      <td>664299</td>\n",
       "      <td>triple</td>\n",
       "      <td>hit_into_play</td>\n",
       "      <td>...</td>\n",
       "      <td>0</td>\n",
       "      <td>0</td>\n",
       "      <td>3</td>\n",
       "      <td>3</td>\n",
       "      <td>0</td>\n",
       "      <td>Infield shift</td>\n",
       "      <td>Standard</td>\n",
       "      <td>209.0</td>\n",
       "      <td>0.170</td>\n",
       "      <td>2.051</td>\n",
       "    </tr>\n",
       "  </tbody>\n",
       "</table></div>"
      ],
      "text/plain": [
       "  pitch_type   game_date  release_speed  release_pos_x  release_pos_z  \\\n",
       "0         CH  2022-07-13           82.6          -2.12           5.39   \n",
       "1         CH  2022-07-13           83.9          -2.05           5.51   \n",
       "2         CH  2022-07-13           85.1          -2.00           5.47   \n",
       "3         CH  2022-07-13           85.2          -1.98           5.36   \n",
       "4         FF  2022-07-13           95.5          -1.73           5.43   \n",
       "\n",
       "      player_name  batter  pitcher  events    description  ...  fld_score  \\\n",
       "0  Ohtani, Shohei  660271   664299    walk   blocked_ball  ...          1   \n",
       "1  Ohtani, Shohei  660271   664299     NaN           ball  ...          1   \n",
       "2  Ohtani, Shohei  660271   664299     NaN           ball  ...          1   \n",
       "3  Ohtani, Shohei  660271   664299     NaN   blocked_ball  ...          1   \n",
       "4  Ohtani, Shohei  660271   664299  triple  hit_into_play  ...          0   \n",
       "\n",
       "   post_away_score  post_home_score  post_bat_score  post_fld_score  \\\n",
       "0                1                3               3               1   \n",
       "1                1                3               3               1   \n",
       "2                1                3               3               1   \n",
       "3                1                3               3               1   \n",
       "4                0                3               3               0   \n",
       "\n",
       "  if_fielding_alignment of_fielding_alignment spin_axis delta_home_win_exp  \\\n",
       "0         Infield shift              Standard     307.0              0.013   \n",
       "1         Infield shift              Standard     217.0              0.000   \n",
       "2         Infield shift              Standard     232.0              0.000   \n",
       "3         Infield shift              Standard     249.0              0.000   \n",
       "4         Infield shift              Standard     209.0              0.170   \n",
       "\n",
       "  delta_run_exp  \n",
       "0         0.057  \n",
       "1         0.086  \n",
       "2         0.053  \n",
       "3         0.038  \n",
       "4         2.051  \n",
       "\n",
       "[5 rows x 92 columns]"
      ]
     },
     "execution_count": 3,
     "metadata": {},
     "output_type": "execute_result"
    }
   ],
   "source": [
    "# preview data\n",
    "ohtani.head()"
   ]
  },
  {
   "cell_type": "code",
   "execution_count": 4,
   "id": "3c0563c8-7423-4b00-ba48-4bb7cfbf4ab2",
   "metadata": {},
   "outputs": [
    {
     "name": "stderr",
     "output_type": "stream",
     "text": [
      "Note: NumExpr detected 12 cores but \"NUMEXPR_MAX_THREADS\" not set, so enforcing safe limit of 8.\n",
      "NumExpr defaulting to 8 threads.\n"
     ]
    }
   ],
   "source": [
    "# filter for 2021 season\n",
    "ohtani21 = ohtani[pd.to_datetime(ohtani.game_date).dt.year==2021]"
   ]
  },
  {
   "cell_type": "code",
   "execution_count": 5,
   "id": "23d5c8d5-bcff-4258-9754-9173190a6047",
   "metadata": {},
   "outputs": [
    {
     "data": {
      "text/plain": [
       "field_out                    190\n",
       "strikeout                    188\n",
       "walk                          76\n",
       "single                        58\n",
       "home_run                      46\n",
       "double                        26\n",
       "triple                         8\n",
       "grounded_into_double_play      7\n",
       "field_error                    6\n",
       "hit_by_pitch                   4\n",
       "force_out                      4\n",
       "fielders_choice                3\n",
       "sac_fly                        2\n",
       "pickoff_3b                     1\n",
       "strikeout_double_play          1\n",
       "Name: events, dtype: int64"
      ]
     },
     "execution_count": 5,
     "metadata": {},
     "output_type": "execute_result"
    }
   ],
   "source": [
    "# Summarize Ohtani's batted events in 2021\n",
    "ohtani21[\"events\"].value_counts()"
   ]
  },
  {
   "cell_type": "code",
   "execution_count": 6,
   "id": "da8be635-6e90-4a98-a214-f32fbef9ab65",
   "metadata": {},
   "outputs": [],
   "source": [
    "# filter for just Ohtani's homeruns in 2021\n",
    "ohtani21_hr = ohtani21[ohtani21.events==\"home_run\"]"
   ]
  },
  {
   "cell_type": "code",
   "execution_count": 83,
   "id": "53e5f331-35df-4c6c-a55b-96ecfb77a612",
   "metadata": {},
   "outputs": [
    {
     "name": "stdout",
     "output_type": "stream",
     "text": [
      "Ohtani hit home runs on pitches that were on average 88.7 mph\n"
     ]
    }
   ],
   "source": [
    "# how fast were the pitches that Ohtani hit home runs off of? How fast were they on average?\n",
    "hr_av_speed=ohtani21_hr.release_speed.mean()\n",
    "print(f\"Ohtani hit home runs on pitches that were on average {round(hr_av_speed,1)} mph\")"
   ]
  },
  {
   "cell_type": "code",
   "execution_count": 85,
   "id": "97c0ef06-43f4-4333-be53-e9c512b195d2",
   "metadata": {},
   "outputs": [
    {
     "name": "stdout",
     "output_type": "stream",
     "text": [
      "Ohtani struck on pitches that were on average 88.2 mph\n"
     ]
    }
   ],
   "source": [
    "# how do these pitches compare to the pitches he struck out on?\n",
    "ohtani21_so = ohtani21[ohtani21.events == \"strikeout\"]\n",
    "so_av_speed=ohtani21_so.release_speed.mean()\n",
    "print(f\"Ohtani struck on pitches that were on average {round(so_av_speed,1)} mph\")"
   ]
  },
  {
   "cell_type": "markdown",
   "id": "a370956d-152f-4820-b69c-255b004580d3",
   "metadata": {},
   "source": [
    "### It doesn't seem that in terms of speed, on average, the pitches that Ohtani struck out on were that noticeably different from the pitches he struck out on. However, averages can be deceiving based on how data is distributed, so it might be worth looking at the range of pitch speeds rather than just the averages"
   ]
  },
  {
   "cell_type": "code",
   "execution_count": 86,
   "id": "266c70d9-5f5b-4cf7-8421-4ceb62743552",
   "metadata": {},
   "outputs": [
    {
     "data": {
      "image/png": "[encoded data removed]",
      "text/plain": [
       "<Figure size 576x288 with 2 Axes>"
      ]
     },
     "metadata": {},
     "output_type": "display_data"
    }
   ],
   "source": [
    "# create box plots of the pitch speeds for both home runs and strike outs. Plot them side by side\n",
    "\n",
    "fig, axs = plt.subplots(nrows=2, sharex=True, sharey=True)\n",
    "sns.set(rc={\"figure.figsize\":(8, 4)})\n",
    "plt.subplots_adjust(hspace = 0.5)\n",
    "sns.boxplot(x=\"release_speed\", data=ohtani21_hr, ax=axs[0]).set_title(\"Speed (mph) of Pitches Ohtani Homered Off Of\")\n",
    "sns.boxplot(x=\"release_speed\", data=ohtani21_so, ax=axs[1]).set_title(\"Speed (mph) of Pitches Ohtani Struck Out Against\")\n",
    "plt.show()"
   ]
  },
  {
   "cell_type": "markdown",
   "id": "16033af8-9819-4944-8fb2-758887d7cda9",
   "metadata": {},
   "source": [
    "### The box plots also suggest that pitch speeds were similar for when Ohtani hit home runs or struck out. The median pitch speed for both outcomes seems to be in the high 80s, much as the averages calculated earlier suggest. Though home runs were hit off a narrower range of pitch speeds, the middle 50 percent of pitches for both fit within a similar range of speeds. The narrower range might also be explained by the fact that overall, Ohtani struck out more often than he hit homeruns (188 strike outs vs 46 home runs), therefore there was less room for variability."
   ]
  },
  {
   "cell_type": "markdown",
   "id": "fd0d3ece-9948-4204-8eb7-a939ecee1c21",
   "metadata": {},
   "source": [
    "## Let's expand the scope a bit\n",
    "### While Ohtani was among the top sluggers in 2021, homeruns still only represented a small portion of all his plate appearances. What made Ohtani formidable as a batter wasn't just that he hit a lot of homeruns, but that he hit hard. In fact, his slugging average of .592 was the fourth highest in all of MLB in 2021. In other words, what made him formidable was the he hit for extra bases a lot.\n",
    "### So let's look all at extra base hits (doubles, triples, and home runs), not just home runs."
   ]
  },
  {
   "cell_type": "code",
   "execution_count": 17,
   "id": "11f3b7aa-059b-4e5d-b8a6-9a62295d5a3e",
   "metadata": {},
   "outputs": [],
   "source": [
    "# filter data for extra base hits\n",
    "ohtani21_eb = ohtani21[(ohtani21.events==\"home_run\") | (ohtani21.events==\"double\") | (ohtani21.events==\"triple\")]"
   ]
  },
  {
   "cell_type": "code",
   "execution_count": 18,
   "id": "d09b6522-2e9b-46f8-9cec-5279f45689ce",
   "metadata": {},
   "outputs": [
    {
     "data": {
      "image/png": "[encoded data removed]",
      "text/plain": [
       "<Figure size 432x288 with 1 Axes>"
      ]
     },
     "metadata": {
      "needs_background": "light"
     },
     "output_type": "display_data"
    }
   ],
   "source": [
    "# how fast were the pitches that Ohtani hit extra bases for?\n",
    "sns.boxplot(x=\"release_speed\", data=ohtani21_eb)\n",
    "plt.show()"
   ]
  },
  {
   "cell_type": "markdown",
   "id": "2b917a72-853e-4c58-a470-91d50864aeb6",
   "metadata": {},
   "source": [
    "### It appears that Ohtani hit for extra bases typically on balls in the high 80 mph range. Let's compare to his homeruns. Is this the pattern for extra base hits in general, or did homeruns in particular seem to be different?"
   ]
  },
  {
   "cell_type": "code",
   "execution_count": 19,
   "id": "de67db68-5198-4a4a-9cbf-87e9bc89b0cc",
   "metadata": {},
   "outputs": [
    {
     "data": {
      "image/png": "[encoded data removed]",
      "text/plain": [
       "<Figure size 432x288 with 1 Axes>"
      ]
     },
     "metadata": {
      "needs_background": "light"
     },
     "output_type": "display_data"
    }
   ],
   "source": [
    "sns.boxplot(x=\"release_speed\", y=\"events\", data=ohtani21_eb)\n",
    "plt.show()"
   ]
  },
  {
   "cell_type": "code",
   "execution_count": 22,
   "id": "99e84da0-1506-47ee-b624-c9843254d812",
   "metadata": {},
   "outputs": [],
   "source": [
    "# filter data for hits\n",
    "ohtani21_hits = ohtani21[(ohtani21.events==\"single\") | (ohtani21.events==\"double\") | (ohtani21.events==\"triple\") | (ohtani21.events==\"home_run\")]"
   ]
  },
  {
   "cell_type": "code",
   "execution_count": 23,
   "id": "076f04dc-4ec2-4556-a131-96f1fe85e537",
   "metadata": {},
   "outputs": [
    {
     "data": {
      "image/png": "[encoded data removed]",
      "text/plain": [
       "<Figure size 432x288 with 1 Axes>"
      ]
     },
     "metadata": {
      "needs_background": "light"
     },
     "output_type": "display_data"
    }
   ],
   "source": [
    "sns.boxplot(x=\"release_speed\", y=\"events\", data=ohtani21_hits)\n",
    "plt.show()"
   ]
  },
  {
   "cell_type": "code",
   "execution_count": null,
   "id": "3942dfb7-e052-465e-970a-320947979f52",
   "metadata": {},
   "outputs": [],
   "source": []
  },
  {
   "cell_type": "code",
   "execution_count": null,
   "id": "d2336a62-fbf3-424f-aa04-3d02dd68b2d0",
   "metadata": {},
   "outputs": [],
   "source": []
  },
  {
   "cell_type": "markdown",
   "id": "673d6ee2-c4c4-41d1-93b7-b8664a1ff8b4",
   "metadata": {},
   "source": [
    "## Pitch Location"
   ]
  },
  {
   "cell_type": "code",
   "execution_count": 24,
   "id": "d5c86a8b-b011-487c-a5bb-c7c58c8bd933",
   "metadata": {},
   "outputs": [],
   "source": [
    "def assign_x_coord(row):\n",
    "    \"\"\"\n",
    "    Assigns an x-coordinate to Statcast's strike zone numbers. Zones 11, 12, 13,\n",
    "    and 14 are ignored for plotting simplicity.\n",
    "    \"\"\"\n",
    "    # Left third of strike zone\n",
    "    if row.zone in [1, 4, 7]:\n",
    "        return 1\n",
    "    # Middle third of strike zone\n",
    "    if row.zone in [2, 5, 8]:\n",
    "        return 2\n",
    "    # Right third of strike zone\n",
    "    if row.zone in [3, 6, 9]:\n",
    "        return 3"
   ]
  },
  {
   "cell_type": "code",
   "execution_count": 25,
   "id": "1a5e2e1c-9bea-46ac-8c91-8b621bda49d5",
   "metadata": {},
   "outputs": [],
   "source": [
    "def assign_y_coord(row):\n",
    "    \"\"\"\n",
    "    Assigns a y-coordinate to Statcast's strike zone numbers. Zones 11, 12, 13,\n",
    "    and 14 are ignored for plotting simplicity.\n",
    "    \"\"\"\n",
    "    # Upper third of strike zone\n",
    "    if row.zone in [1, 2, 3]:\n",
    "        return 3\n",
    "    # Middle third of strike zone\n",
    "    if row.zone in [4, 5, 6]:\n",
    "        return 2\n",
    "    # Lower third of strike zone\n",
    "    if row.zone in [7, 8, 9]:\n",
    "        return 1"
   ]
  },
  {
   "cell_type": "code",
   "execution_count": 26,
   "id": "e2af108a-3af7-41d8-8f60-0cf44c6e0b3b",
   "metadata": {},
   "outputs": [
    {
     "data": {
      "image/png": "[encoded data removed]",
      "text/plain": [
       "<Figure size 432x288 with 2 Axes>"
      ]
     },
     "metadata": {
      "needs_background": "light"
     },
     "output_type": "display_data"
    }
   ],
   "source": [
    "# Zones 11, 12, 13, and 14 are to be ignored for plotting simplicity\n",
    "ohtani21_hits_zones = ohtani21_hits.copy().loc[ohtani21_hits.zone <= 9]\n",
    "\n",
    "# Assign Cartesian coordinates to pitches in the strike zone for Ohtani's hits\n",
    "ohtani21_hits_zones['zone_x'] = ohtani21_hits_zones.apply(assign_x_coord, axis=1)\n",
    "ohtani21_hits_zones['zone_y'] = ohtani21_hits_zones.apply(assign_y_coord, axis=1)\n",
    "\n",
    "# Plot Ohtani's hit zone as a 2D histogram with a colorbar\n",
    "plt.hist2d(x=ohtani21_hits_zones['zone_x'], y=ohtani21_hits_zones['zone_y'], bins = 3, cmap='Blues')\n",
    "plt.title(\"Ohtani's Hits on Pitches \\n in the Strike Zone\")\n",
    "plt.gca().get_xaxis().set_visible(False)\n",
    "plt.gca().get_yaxis().set_visible(False)\n",
    "cb = plt.colorbar()\n",
    "cb.set_label('Counts in Bin')"
   ]
  },
  {
   "cell_type": "code",
   "execution_count": 27,
   "id": "88ab9723-e813-467d-8f23-f4e8955d168d",
   "metadata": {},
   "outputs": [
    {
     "data": {
      "image/png": "[encoded data removed]",
      "text/plain": [
       "<Figure size 432x288 with 2 Axes>"
      ]
     },
     "metadata": {
      "needs_background": "light"
     },
     "output_type": "display_data"
    }
   ],
   "source": [
    "# Zones 11, 12, 13, and 14 are to be ignored for plotting simplicity\n",
    "ohtani21_eb_zones = ohtani21_eb.copy().loc[ohtani21_eb.zone <= 9]\n",
    "\n",
    "# Assign Cartesian coordinates to pitches in the strike zone for Ohtani's extra base hits\n",
    "ohtani21_eb_zones['zone_x'] = ohtani21_eb_zones.apply(assign_x_coord, axis=1)\n",
    "ohtani21_eb_zones['zone_y'] = ohtani21_eb_zones.apply(assign_y_coord, axis=1)\n",
    "\n",
    "# Plot Ohtani's extra base hit zone as a 2D histogram with a colorbar\n",
    "plt.hist2d(x=ohtani21_eb_zones['zone_x'], y=ohtani21_eb_zones['zone_y'], bins = 3, cmap='Blues')\n",
    "plt.title(\"Ohtani's Extra Base Hits on Pitches in \\n the Strike Zone\")\n",
    "plt.gca().get_xaxis().set_visible(False)\n",
    "plt.gca().get_yaxis().set_visible(False)\n",
    "cb = plt.colorbar()\n",
    "cb.set_label('Counts in Bin')"
   ]
  },
  {
   "cell_type": "code",
   "execution_count": 28,
   "id": "af43325d-9cb5-40ca-be23-095e52b5b78d",
   "metadata": {},
   "outputs": [
    {
     "data": {
      "image/png": "[encoded data removed]",
      "text/plain": [
       "<Figure size 432x288 with 2 Axes>"
      ]
     },
     "metadata": {
      "needs_background": "light"
     },
     "output_type": "display_data"
    }
   ],
   "source": [
    "# Zones 11, 12, 13, and 14 are to be ignored for plotting simplicity\n",
    "ohtani21_hr_zones = ohtani21_hr.copy().loc[ohtani21_hr.zone <= 9]\n",
    "\n",
    "# Assign Cartesian coordinates to pitches in the strike zone for Ohtani's home runs\n",
    "ohtani21_hr_zones['zone_x'] = ohtani21_hr_zones.apply(assign_x_coord, axis=1)\n",
    "ohtani21_hr_zones['zone_y'] = ohtani21_hr_zones.apply(assign_y_coord, axis=1)\n",
    "\n",
    "# Plot Ohtani's home run zone as a 2D histogram with a colorbar\n",
    "plt.hist2d(x=ohtani21_hr_zones['zone_x'], y=ohtani21_hr_zones['zone_y'], bins = 3, cmap='Blues')\n",
    "plt.title(\"Ohtani's Home Runs on Pitches in \\n the Strike Zone\")\n",
    "plt.gca().get_xaxis().set_visible(False)\n",
    "plt.gca().get_yaxis().set_visible(False)\n",
    "cb = plt.colorbar()\n",
    "cb.set_label('Counts in Bin')"
   ]
  },
  {
   "cell_type": "code",
   "execution_count": 29,
   "id": "fd1c674e-409a-47bc-bf25-01b187d86131",
   "metadata": {},
   "outputs": [],
   "source": [
    "ohtani21_t = ohtani21_hits[ohtani21_hits.events==\"triple\"]"
   ]
  },
  {
   "cell_type": "code",
   "execution_count": 30,
   "id": "338ec3b2-a94b-4c11-8715-5d29cac32c56",
   "metadata": {},
   "outputs": [
    {
     "data": {
      "image/png": "[encoded data removed]",
      "text/plain": [
       "<Figure size 432x288 with 2 Axes>"
      ]
     },
     "metadata": {
      "needs_background": "light"
     },
     "output_type": "display_data"
    }
   ],
   "source": [
    "# Zones 11, 12, 13, and 14 are to be ignored for plotting simplicity\n",
    "ohtani21_t_zones = ohtani21_t.copy().loc[ohtani21_t.zone <= 9]\n",
    "\n",
    "# Assign Cartesian coordinates to pitches in the strike zone for Ohtani's triples\n",
    "ohtani21_t_zones['zone_x'] = ohtani21_t_zones.apply(assign_x_coord, axis=1)\n",
    "ohtani21_t_zones['zone_y'] = ohtani21_t_zones.apply(assign_y_coord, axis=1)\n",
    "\n",
    "# Plot Ohtani's triple zone as a 2D histogram with a colorbar\n",
    "plt.hist2d(x=ohtani21_t_zones['zone_x'], y=ohtani21_t_zones['zone_y'], bins = 3, cmap='Blues')\n",
    "plt.title(\"Ohtani's Triples on Pitches in \\n the Strike Zone\")\n",
    "plt.gca().get_xaxis().set_visible(False)\n",
    "plt.gca().get_yaxis().set_visible(False)\n",
    "cb = plt.colorbar()\n",
    "cb.set_label('Counts in Bin')"
   ]
  },
  {
   "cell_type": "code",
   "execution_count": 31,
   "id": "f5a1cb47-df3c-4d28-bd1a-11ac041c293e",
   "metadata": {},
   "outputs": [],
   "source": [
    "ohtani21_d = ohtani21_hits[ohtani21_hits.events==\"double\"]"
   ]
  },
  {
   "cell_type": "code",
   "execution_count": 32,
   "id": "56f01304-85e4-4a29-b080-e5057a51f358",
   "metadata": {},
   "outputs": [
    {
     "data": {
      "image/png": "[encoded data removed]",
      "text/plain": [
       "<Figure size 432x288 with 2 Axes>"
      ]
     },
     "metadata": {
      "needs_background": "light"
     },
     "output_type": "display_data"
    }
   ],
   "source": [
    "# Zones 11, 12, 13, and 14 are to be ignored for plotting simplicity\n",
    "ohtani21_d_zones = ohtani21_d.copy().loc[ohtani21_d.zone <= 9]\n",
    "\n",
    "# Assign Cartesian coordinates to pitches in the strike zone for Ohtani's doubles\n",
    "ohtani21_d_zones['zone_x'] = ohtani21_d_zones.apply(assign_x_coord, axis=1)\n",
    "ohtani21_d_zones['zone_y'] = ohtani21_d_zones.apply(assign_y_coord, axis=1)\n",
    "\n",
    "# Plot Ohtani's double zone as a 2D histogram with a colorbar\n",
    "plt.hist2d(x=ohtani21_d_zones['zone_x'], y=ohtani21_d_zones['zone_y'], bins = 3, cmap='Blues')\n",
    "plt.title(\"Ohtani's Doubles on Pitches in \\n the Strike Zone\")\n",
    "plt.gca().get_xaxis().set_visible(False)\n",
    "plt.gca().get_yaxis().set_visible(False)\n",
    "cb = plt.colorbar()\n",
    "cb.set_label('Counts in Bin')"
   ]
  },
  {
   "cell_type": "code",
   "execution_count": 33,
   "id": "20e32f33-aecb-4d5a-bf53-c124813f0070",
   "metadata": {},
   "outputs": [],
   "source": [
    "ohtani21_s = ohtani21_hits[ohtani21_hits.events==\"single\"]"
   ]
  },
  {
   "cell_type": "code",
   "execution_count": 34,
   "id": "4e2c4bf8-3230-4a12-8061-b55b344dc6af",
   "metadata": {},
   "outputs": [
    {
     "data": {
      "image/png": "[encoded data removed]",
      "text/plain": [
       "<Figure size 432x288 with 2 Axes>"
      ]
     },
     "metadata": {
      "needs_background": "light"
     },
     "output_type": "display_data"
    }
   ],
   "source": [
    "# Zones 11, 12, 13, and 14 are to be ignored for plotting simplicity\n",
    "ohtani21_s_zones = ohtani21_s.copy().loc[ohtani21_s.zone <= 9]\n",
    "\n",
    "# Assign Cartesian coordinates to pitches in the strike zone for Ohtani's singles\n",
    "ohtani21_s_zones['zone_x'] = ohtani21_s_zones.apply(assign_x_coord, axis=1)\n",
    "ohtani21_s_zones['zone_y'] = ohtani21_s_zones.apply(assign_y_coord, axis=1)\n",
    "\n",
    "# Plot Ohtani's single zone as a 2D histogram with a colorbar\n",
    "plt.hist2d(x=ohtani21_s_zones['zone_x'], y=ohtani21_s_zones['zone_y'], bins = 3, cmap='Blues')\n",
    "plt.title(\"Ohtani's Singles on Pitches in \\n the Strike Zone\")\n",
    "plt.gca().get_xaxis().set_visible(False)\n",
    "plt.gca().get_yaxis().set_visible(False)\n",
    "cb = plt.colorbar()\n",
    "cb.set_label('Counts in Bin')"
   ]
  },
  {
   "cell_type": "code",
   "execution_count": null,
   "id": "af243892-a200-493b-8b23-775da199b081",
   "metadata": {},
   "outputs": [],
   "source": []
  },
  {
   "cell_type": "code",
   "execution_count": 35,
   "id": "dfd0e637-47e2-4c6a-bc00-cc87bf48f171",
   "metadata": {},
   "outputs": [
    {
     "data": {
      "image/png": "[encoded data removed]",
      "text/plain": [
       "<Figure size 432x288 with 2 Axes>"
      ]
     },
     "metadata": {
      "needs_background": "light"
     },
     "output_type": "display_data"
    }
   ],
   "source": [
    "ohtani21_so_zones = ohtani21_so.copy().loc[ohtani21_so.zone <= 9]\n",
    "\n",
    "# Assign Cartesian coordinates to pitches in the strike zone for Ohtani's strike outs\n",
    "ohtani21_so_zones['zone_x'] = ohtani21_so_zones.apply(assign_x_coord, axis=1)\n",
    "ohtani21_so_zones['zone_y'] = ohtani21_so_zones.apply(assign_y_coord, axis=1)\n",
    "\n",
    "# Plot Ohtani's strole out zone as a 2D histogram with a colorbar\n",
    "plt.hist2d(x=ohtani21_so_zones['zone_x'], y=ohtani21_so_zones['zone_y'], bins = 3, cmap='Blues')\n",
    "plt.title(\"Ohtani's Strike Outs on Pitches in \\n the Strike Zone\")\n",
    "plt.gca().get_xaxis().set_visible(False)\n",
    "plt.gca().get_yaxis().set_visible(False)\n",
    "cb = plt.colorbar()\n",
    "cb.set_label('Counts in Bin')"
   ]
  },
  {
   "cell_type": "code",
   "execution_count": null,
   "id": "877ff5ac-51e7-4ce2-a588-97f6bf10b93c",
   "metadata": {},
   "outputs": [],
   "source": []
  },
  {
   "cell_type": "code",
   "execution_count": 36,
   "id": "74c2a6d9-975b-4321-b2a6-69ef096736c7",
   "metadata": {},
   "outputs": [],
   "source": [
    "ohtani21_strikes = ohtani21[(ohtani21.description == \"called_strike\") | (ohtani21.description == \"swinging_strike\")]"
   ]
  },
  {
   "cell_type": "code",
   "execution_count": 37,
   "id": "e95feb1a-eb0a-4d99-bb62-8fc02a458ce0",
   "metadata": {},
   "outputs": [
    {
     "data": {
      "image/png": "[encoded data removed]",
      "text/plain": [
       "<Figure size 432x288 with 2 Axes>"
      ]
     },
     "metadata": {
      "needs_background": "light"
     },
     "output_type": "display_data"
    }
   ],
   "source": [
    "ohtani21_strikes_zones = ohtani21_strikes.copy().loc[ohtani21_strikes.zone <= 9]\n",
    "\n",
    "# Assign Cartesian coordinates to pitches in the strike zone for Ohtani's strikes\n",
    "ohtani21_strikes_zones['zone_x'] = ohtani21_strikes_zones.apply(assign_x_coord, axis=1)\n",
    "ohtani21_strikes_zones['zone_y'] = ohtani21_strikes_zones.apply(assign_y_coord, axis=1)\n",
    "\n",
    "# Plot Ohtani's strikes' zone as a 2D histogram with a colorbar\n",
    "plt.hist2d(x=ohtani21_strikes_zones['zone_x'], y=ohtani21_strikes_zones['zone_y'], bins = 3, cmap='Blues')\n",
    "plt.title(\"Ohtani's Strikes on Pitches in \\n the Strike Zone\")\n",
    "plt.gca().get_xaxis().set_visible(False)\n",
    "plt.gca().get_yaxis().set_visible(False)\n",
    "cb = plt.colorbar()\n",
    "cb.set_label('Counts in Bin')"
   ]
  },
  {
   "cell_type": "code",
   "execution_count": 38,
   "id": "4c21455d-e892-445e-8ad6-b9489261caf2",
   "metadata": {},
   "outputs": [
    {
     "name": "stderr",
     "output_type": "stream",
     "text": [
      "<ipython-input-38-42e7c8e897a2>:1: UserWarning: Boolean Series key will be reindexed to match DataFrame index.\n",
      "  ohtani21_fo = ohtani21[ohtani.events==\"field_out\"]\n"
     ]
    }
   ],
   "source": [
    "ohtani21_fo = ohtani21[ohtani.events==\"field_out\"]"
   ]
  },
  {
   "cell_type": "code",
   "execution_count": 39,
   "id": "4a0e291e-a42f-4d43-a27e-3e5691f9bcc8",
   "metadata": {},
   "outputs": [
    {
     "data": {
      "text/plain": [
       "events     pitch_type\n",
       "field_out  FF            0.221053\n",
       "           CH            0.210526\n",
       "           SL            0.178947\n",
       "           CU            0.121053\n",
       "           SI            0.121053\n",
       "           FC            0.089474\n",
       "           KC            0.031579\n",
       "           FS            0.026316\n",
       "Name: pitch_type, dtype: float64"
      ]
     },
     "execution_count": 39,
     "metadata": {},
     "output_type": "execute_result"
    }
   ],
   "source": [
    "ohtani21_fo.groupby(\"events\")[\"pitch_type\"].value_counts(normalize=True)"
   ]
  },
  {
   "cell_type": "code",
   "execution_count": 41,
   "id": "45a2e61e-e93b-4760-b0ae-d10b33886c69",
   "metadata": {},
   "outputs": [
    {
     "data": {
      "image/png": "[encoded data removed]",
      "text/plain": [
       "<Figure size 432x288 with 1 Axes>"
      ]
     },
     "metadata": {
      "needs_background": "light"
     },
     "output_type": "display_data"
    }
   ],
   "source": [
    "sns.boxplot(x=\"release_speed\", data=ohtani21_fo)\n",
    "plt.show()"
   ]
  },
  {
   "cell_type": "code",
   "execution_count": 42,
   "id": "de028178-ac6e-4330-a701-2c659370446d",
   "metadata": {},
   "outputs": [
    {
     "data": {
      "image/png": "[encoded data removed]",
      "text/plain": [
       "<Figure size 432x288 with 2 Axes>"
      ]
     },
     "metadata": {
      "needs_background": "light"
     },
     "output_type": "display_data"
    }
   ],
   "source": [
    "ohtani21_fo_zones = ohtani21_fo.copy().loc[ohtani21_fo.zone <= 9]\n",
    "\n",
    "# Assign Cartesian coordinates to pitches in the strike zone for Ohtani's field outs\n",
    "ohtani21_fo_zones['zone_x'] = ohtani21_fo_zones.apply(assign_x_coord, axis=1)\n",
    "ohtani21_fo_zones['zone_y'] = ohtani21_fo_zones.apply(assign_y_coord, axis=1)\n",
    "\n",
    "# Plot Ohtani's field out zone as a 2D histogram with a colorbar\n",
    "plt.hist2d(x=ohtani21_fo_zones['zone_x'], y=ohtani21_fo_zones['zone_y'], bins = 3, cmap='Blues')\n",
    "plt.title(\"Ohtani's Strikes on Pitches in \\n the Strike Zone\")\n",
    "plt.gca().get_xaxis().set_visible(False)\n",
    "plt.gca().get_yaxis().set_visible(False)\n",
    "cb = plt.colorbar()\n",
    "cb.set_label('Counts in Bin')"
   ]
  },
  {
   "cell_type": "code",
   "execution_count": null,
   "id": "d9158aac-db43-479d-8e82-5f0baf0f2454",
   "metadata": {},
   "outputs": [],
   "source": []
  },
  {
   "cell_type": "code",
   "execution_count": 52,
   "id": "a4cf624d-0452-4eaa-a53f-1384902ac045",
   "metadata": {},
   "outputs": [
    {
     "data": {
      "image/png": "[encoded data removed]",
      "text/plain": [
       "<Figure size 1728x432 with 5 Axes>"
      ]
     },
     "metadata": {},
     "output_type": "display_data"
    }
   ],
   "source": [
    "fig, axs = plt.subplots(ncols=5, sharex=True, sharey=True)\n",
    "sns.set(rc={\"figure.figsize\":(30, 6)})\n",
    "sns.boxplot(y=\"release_speed\", x=\"pitch_type\", data=ohtani21_s, ax=axs[0]).set_title(\"Singles Hit by Pitch Type\")\n",
    "sns.boxplot(y=\"release_speed\", x=\"pitch_type\", data=ohtani21_d, ax=axs[1]).set_title(\"Doubles Hit by Pitch Type\")\n",
    "sns.boxplot(y=\"release_speed\", x=\"pitch_type\", data=ohtani21_t, ax=axs[2]).set_title(\"Triples Hit by Pitch Type\")\n",
    "sns.boxplot(y=\"release_speed\", x=\"pitch_type\", data=ohtani21_hr, ax=axs[3]).set_title(\"Home Runs Hit by Pitch Type\")\n",
    "sns.boxplot(y=\"release_speed\", x=\"pitch_type\", data=ohtani21_so, ax=axs[4]).set_title(\"Strike Outs by Pitch Type\")\n",
    "plt.show()"
   ]
  },
  {
   "cell_type": "code",
   "execution_count": null,
   "id": "a05a75dc-46a2-400f-8c09-9ebe014d6947",
   "metadata": {},
   "outputs": [],
   "source": []
  },
  {
   "cell_type": "code",
   "execution_count": null,
   "id": "4e8d6c0c-7508-4199-aaeb-fb7d5ae2fef5",
   "metadata": {},
   "outputs": [],
   "source": []
  }
 ],
 "metadata": {
  "kernelspec": {
   "display_name": "PythonData",
   "language": "python",
   "name": "pythondata"
  },
  "language_info": {
   "codemirror_mode": {
    "name": "ipython",
    "version": 3
   },
   "file_extension": ".py",
   "mimetype": "text/x-python",
   "name": "python",
   "nbconvert_exporter": "python",
   "pygments_lexer": "ipython3",
   "version": "3.9.4"
  }
 },
 "nbformat": 4,
 "nbformat_minor": 5
}
