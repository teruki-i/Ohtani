{
 "cells": [
  {
   "cell_type": "code",
   "execution_count": 1,
   "id": "94e38e34-88ee-4d06-9897-cc3c269b7ba3",
   "metadata": {},
   "outputs": [],
   "source": [
    "# import depenedencies\n",
    "import pandas as pd\n",
    "from matplotlib import pyplot as plt\n",
    "import seaborn as sns"
   ]
  },
  {
   "cell_type": "code",
   "execution_count": 2,
   "id": "e84c9c73-5c0b-498c-990d-ed243aba7b10",
   "metadata": {},
   "outputs": [],
   "source": [
    "# load data\n",
    "ohtani = pd.read_csv(\"660271_data.csv\")"
   ]
  },
  {
   "cell_type": "code",
   "execution_count": 3,
   "id": "17616d02-08e9-41a5-898b-310b2643d693",
   "metadata": {},
   "outputs": [
    {
     "data": {
      "text/html": [
       "<div><div id=fde12fce-924f-431f-b46e-2863d9a18cde style=\"display:none; background-color:#9D6CFF; color:white; width:200px; height:30px; padding-left:5px; border-radius:4px; flex-direction:row; justify-content:space-around; align-items:center;\" onmouseover=\"this.style.backgroundColor='#BA9BF8'\" onmouseout=\"this.style.backgroundColor='#9D6CFF'\" onclick=\"window.commands?.execute('create-mitosheet-from-dataframe-output');\">See Full Dataframe in Mito</div> <script> if (window.commands.hasCommand('create-mitosheet-from-dataframe-output')) document.getElementById('fde12fce-924f-431f-b46e-2863d9a18cde').style.display = 'flex' </script> <table border=\"1\" class=\"dataframe\">\n",
       "  <thead>\n",
       "    <tr style=\"text-align: right;\">\n",
       "      <th></th>\n",
       "      <th>pitch_type</th>\n",
       "      <th>game_date</th>\n",
       "      <th>release_speed</th>\n",
       "      <th>release_pos_x</th>\n",
       "      <th>release_pos_z</th>\n",
       "      <th>player_name</th>\n",
       "      <th>batter</th>\n",
       "      <th>pitcher</th>\n",
       "      <th>events</th>\n",
       "      <th>description</th>\n",
       "      <th>...</th>\n",
       "      <th>fld_score</th>\n",
       "      <th>post_away_score</th>\n",
       "      <th>post_home_score</th>\n",
       "      <th>post_bat_score</th>\n",
       "      <th>post_fld_score</th>\n",
       "      <th>if_fielding_alignment</th>\n",
       "      <th>of_fielding_alignment</th>\n",
       "      <th>spin_axis</th>\n",
       "      <th>delta_home_win_exp</th>\n",
       "      <th>delta_run_exp</th>\n",
       "    </tr>\n",
       "  </thead>\n",
       "  <tbody>\n",
       "    <tr>\n",
       "      <th>0</th>\n",
       "      <td>CH</td>\n",
       "      <td>2022-07-13</td>\n",
       "      <td>82.6</td>\n",
       "      <td>-2.12</td>\n",
       "      <td>5.39</td>\n",
       "      <td>Ohtani, Shohei</td>\n",
       "      <td>660271</td>\n",
       "      <td>664299</td>\n",
       "      <td>walk</td>\n",
       "      <td>blocked_ball</td>\n",
       "      <td>...</td>\n",
       "      <td>1</td>\n",
       "      <td>1</td>\n",
       "      <td>3</td>\n",
       "      <td>3</td>\n",
       "      <td>1</td>\n",
       "      <td>Infield shift</td>\n",
       "      <td>Standard</td>\n",
       "      <td>307.0</td>\n",
       "      <td>0.013</td>\n",
       "      <td>0.057</td>\n",
       "    </tr>\n",
       "    <tr>\n",
       "      <th>1</th>\n",
       "      <td>CH</td>\n",
       "      <td>2022-07-13</td>\n",
       "      <td>83.9</td>\n",
       "      <td>-2.05</td>\n",
       "      <td>5.51</td>\n",
       "      <td>Ohtani, Shohei</td>\n",
       "      <td>660271</td>\n",
       "      <td>664299</td>\n",
       "      <td>NaN</td>\n",
       "      <td>ball</td>\n",
       "      <td>...</td>\n",
       "      <td>1</td>\n",
       "      <td>1</td>\n",
       "      <td>3</td>\n",
       "      <td>3</td>\n",
       "      <td>1</td>\n",
       "      <td>Infield shift</td>\n",
       "      <td>Standard</td>\n",
       "      <td>217.0</td>\n",
       "      <td>0.000</td>\n",
       "      <td>0.086</td>\n",
       "    </tr>\n",
       "    <tr>\n",
       "      <th>2</th>\n",
       "      <td>CH</td>\n",
       "      <td>2022-07-13</td>\n",
       "      <td>85.1</td>\n",
       "      <td>-2.00</td>\n",
       "      <td>5.47</td>\n",
       "      <td>Ohtani, Shohei</td>\n",
       "      <td>660271</td>\n",
       "      <td>664299</td>\n",
       "      <td>NaN</td>\n",
       "      <td>ball</td>\n",
       "      <td>...</td>\n",
       "      <td>1</td>\n",
       "      <td>1</td>\n",
       "      <td>3</td>\n",
       "      <td>3</td>\n",
       "      <td>1</td>\n",
       "      <td>Infield shift</td>\n",
       "      <td>Standard</td>\n",
       "      <td>232.0</td>\n",
       "      <td>0.000</td>\n",
       "      <td>0.053</td>\n",
       "    </tr>\n",
       "    <tr>\n",
       "      <th>3</th>\n",
       "      <td>CH</td>\n",
       "      <td>2022-07-13</td>\n",
       "      <td>85.2</td>\n",
       "      <td>-1.98</td>\n",
       "      <td>5.36</td>\n",
       "      <td>Ohtani, Shohei</td>\n",
       "      <td>660271</td>\n",
       "      <td>664299</td>\n",
       "      <td>NaN</td>\n",
       "      <td>blocked_ball</td>\n",
       "      <td>...</td>\n",
       "      <td>1</td>\n",
       "      <td>1</td>\n",
       "      <td>3</td>\n",
       "      <td>3</td>\n",
       "      <td>1</td>\n",
       "      <td>Infield shift</td>\n",
       "      <td>Standard</td>\n",
       "      <td>249.0</td>\n",
       "      <td>0.000</td>\n",
       "      <td>0.038</td>\n",
       "    </tr>\n",
       "    <tr>\n",
       "      <th>4</th>\n",
       "      <td>FF</td>\n",
       "      <td>2022-07-13</td>\n",
       "      <td>95.5</td>\n",
       "      <td>-1.73</td>\n",
       "      <td>5.43</td>\n",
       "      <td>Ohtani, Shohei</td>\n",
       "      <td>660271</td>\n",
       "      <td>664299</td>\n",
       "      <td>triple</td>\n",
       "      <td>hit_into_play</td>\n",
       "      <td>...</td>\n",
       "      <td>0</td>\n",
       "      <td>0</td>\n",
       "      <td>3</td>\n",
       "      <td>3</td>\n",
       "      <td>0</td>\n",
       "      <td>Infield shift</td>\n",
       "      <td>Standard</td>\n",
       "      <td>209.0</td>\n",
       "      <td>0.170</td>\n",
       "      <td>2.051</td>\n",
       "    </tr>\n",
       "  </tbody>\n",
       "</table></div>"
      ],
      "text/plain": [
       "  pitch_type   game_date  release_speed  release_pos_x  release_pos_z  \\\n",
       "0         CH  2022-07-13           82.6          -2.12           5.39   \n",
       "1         CH  2022-07-13           83.9          -2.05           5.51   \n",
       "2         CH  2022-07-13           85.1          -2.00           5.47   \n",
       "3         CH  2022-07-13           85.2          -1.98           5.36   \n",
       "4         FF  2022-07-13           95.5          -1.73           5.43   \n",
       "\n",
       "      player_name  batter  pitcher  events    description  ...  fld_score  \\\n",
       "0  Ohtani, Shohei  660271   664299    walk   blocked_ball  ...          1   \n",
       "1  Ohtani, Shohei  660271   664299     NaN           ball  ...          1   \n",
       "2  Ohtani, Shohei  660271   664299     NaN           ball  ...          1   \n",
       "3  Ohtani, Shohei  660271   664299     NaN   blocked_ball  ...          1   \n",
       "4  Ohtani, Shohei  660271   664299  triple  hit_into_play  ...          0   \n",
       "\n",
       "   post_away_score  post_home_score  post_bat_score  post_fld_score  \\\n",
       "0                1                3               3               1   \n",
       "1                1                3               3               1   \n",
       "2                1                3               3               1   \n",
       "3                1                3               3               1   \n",
       "4                0                3               3               0   \n",
       "\n",
       "  if_fielding_alignment of_fielding_alignment spin_axis delta_home_win_exp  \\\n",
       "0         Infield shift              Standard     307.0              0.013   \n",
       "1         Infield shift              Standard     217.0              0.000   \n",
       "2         Infield shift              Standard     232.0              0.000   \n",
       "3         Infield shift              Standard     249.0              0.000   \n",
       "4         Infield shift              Standard     209.0              0.170   \n",
       "\n",
       "  delta_run_exp  \n",
       "0         0.057  \n",
       "1         0.086  \n",
       "2         0.053  \n",
       "3         0.038  \n",
       "4         2.051  \n",
       "\n",
       "[5 rows x 92 columns]"
      ]
     },
     "execution_count": 3,
     "metadata": {},
     "output_type": "execute_result"
    }
   ],
   "source": [
    "# preview data\n",
    "ohtani.head()"
   ]
  },
  {
   "cell_type": "code",
   "execution_count": 4,
   "id": "b358c385-caa4-4318-8c56-d923034659ad",
   "metadata": {},
   "outputs": [
    {
     "data": {
      "text/plain": [
       "Index(['pitch_type', 'game_date', 'release_speed', 'release_pos_x',\n",
       "       'release_pos_z', 'player_name', 'batter', 'pitcher', 'events',\n",
       "       'description', 'spin_dir', 'spin_rate_deprecated',\n",
       "       'break_angle_deprecated', 'break_length_deprecated', 'zone', 'des',\n",
       "       'game_type', 'stand', 'p_throws', 'home_team', 'away_team', 'type',\n",
       "       'hit_location', 'bb_type', 'balls', 'strikes', 'game_year', 'pfx_x',\n",
       "       'pfx_z', 'plate_x', 'plate_z', 'on_3b', 'on_2b', 'on_1b',\n",
       "       'outs_when_up', 'inning', 'inning_topbot', 'hc_x', 'hc_y',\n",
       "       'tfs_deprecated', 'tfs_zulu_deprecated', 'fielder_2', 'umpire', 'sv_id',\n",
       "       'vx0', 'vy0', 'vz0', 'ax', 'ay', 'az', 'sz_top', 'sz_bot',\n",
       "       'hit_distance_sc', 'launch_speed', 'launch_angle', 'effective_speed',\n",
       "       'release_spin_rate', 'release_extension', 'game_pk', 'pitcher.1',\n",
       "       'fielder_2.1', 'fielder_3', 'fielder_4', 'fielder_5', 'fielder_6',\n",
       "       'fielder_7', 'fielder_8', 'fielder_9', 'release_pos_y',\n",
       "       'estimated_ba_using_speedangle', 'estimated_woba_using_speedangle',\n",
       "       'woba_value', 'woba_denom', 'babip_value', 'iso_value',\n",
       "       'launch_speed_angle', 'at_bat_number', 'pitch_number', 'pitch_name',\n",
       "       'home_score', 'away_score', 'bat_score', 'fld_score', 'post_away_score',\n",
       "       'post_home_score', 'post_bat_score', 'post_fld_score',\n",
       "       'if_fielding_alignment', 'of_fielding_alignment', 'spin_axis',\n",
       "       'delta_home_win_exp', 'delta_run_exp'],\n",
       "      dtype='object')"
      ]
     },
     "execution_count": 4,
     "metadata": {},
     "output_type": "execute_result"
    }
   ],
   "source": [
    "# see what kinds of data was collected\n",
    "ohtani.columns"
   ]
  },
  {
   "cell_type": "code",
   "execution_count": 6,
   "id": "3c0563c8-7423-4b00-ba48-4bb7cfbf4ab2",
   "metadata": {},
   "outputs": [
    {
     "name": "stderr",
     "output_type": "stream",
     "text": [
      "Note: NumExpr detected 12 cores but \"NUMEXPR_MAX_THREADS\" not set, so enforcing safe limit of 8.\n",
      "NumExpr defaulting to 8 threads.\n"
     ]
    }
   ],
   "source": [
    "# filter for 2021 season\n",
    "ohtani21 = ohtani[pd.to_datetime(ohtani.game_date).dt.year==2021]"
   ]
  },
  {
   "cell_type": "code",
   "execution_count": 7,
   "id": "23d5c8d5-bcff-4258-9754-9173190a6047",
   "metadata": {},
   "outputs": [
    {
     "data": {
      "text/plain": [
       "field_out                    190\n",
       "strikeout                    188\n",
       "walk                          76\n",
       "single                        58\n",
       "home_run                      46\n",
       "double                        26\n",
       "triple                         8\n",
       "grounded_into_double_play      7\n",
       "field_error                    6\n",
       "hit_by_pitch                   4\n",
       "force_out                      4\n",
       "fielders_choice                3\n",
       "sac_fly                        2\n",
       "strikeout_double_play          1\n",
       "pickoff_3b                     1\n",
       "Name: events, dtype: int64"
      ]
     },
     "execution_count": 7,
     "metadata": {},
     "output_type": "execute_result"
    }
   ],
   "source": [
    "# Summarize Ohtani's batted events in 2021\n",
    "ohtani21[\"events\"].value_counts()"
   ]
  },
  {
   "cell_type": "code",
   "execution_count": 8,
   "id": "da8be635-6e90-4a98-a214-f32fbef9ab65",
   "metadata": {},
   "outputs": [],
   "source": [
    "# filter for just Ohtani's homeruns in 2021\n",
    "ohtani21_hr = ohtani21[ohtani21.events==\"home_run\"]"
   ]
  },
  {
   "cell_type": "code",
   "execution_count": 9,
   "id": "53e5f331-35df-4c6c-a55b-96ecfb77a612",
   "metadata": {},
   "outputs": [
    {
     "data": {
      "text/plain": [
       "88.69565217391305"
      ]
     },
     "execution_count": 9,
     "metadata": {},
     "output_type": "execute_result"
    }
   ],
   "source": [
    "# how fast were the pitches that Ohtani hit home runs off of? How fast were they on average?\n",
    "ohtani21_hr.release_speed.mean()"
   ]
  },
  {
   "cell_type": "code",
   "execution_count": 10,
   "id": "a3df8296-f00e-441e-b75f-2b1ee5de885c",
   "metadata": {},
   "outputs": [
    {
     "data": {
      "image/png": "[encoded data removed]",
      "text/plain": [
       "<Figure size 432x288 with 1 Axes>"
      ]
     },
     "metadata": {
      "needs_background": "light"
     },
     "output_type": "display_data"
    }
   ],
   "source": [
    "# means can fail to tell the whole picture, so let's see the box plot\n",
    "sns.boxplot(x=\"release_speed\", data=ohtani21_hr)\n",
    "plt.show()"
   ]
  },
  {
   "cell_type": "code",
   "execution_count": 11,
   "id": "97c0ef06-43f4-4333-be53-e9c512b195d2",
   "metadata": {},
   "outputs": [
    {
     "data": {
      "text/plain": [
       "88.1526595744681"
      ]
     },
     "execution_count": 11,
     "metadata": {},
     "output_type": "execute_result"
    }
   ],
   "source": [
    "# how do these pitches compare to the pitches he struck out on?\n",
    "ohtani21_so = ohtani21[ohtani21.events == \"strikeout\"]\n",
    "ohtani21_so.release_speed.mean()"
   ]
  },
  {
   "cell_type": "code",
   "execution_count": 12,
   "id": "b051beef-51a0-4c94-b0e6-e289e5e1021a",
   "metadata": {},
   "outputs": [
    {
     "data": {
      "image/png": "[encoded data removed]",
      "text/plain": [
       "<Figure size 432x288 with 1 Axes>"
      ]
     },
     "metadata": {
      "needs_background": "light"
     },
     "output_type": "display_data"
    }
   ],
   "source": [
    "sns.boxplot(x=\"release_speed\", data=ohtani21_so)\n",
    "plt.show()"
   ]
  },
  {
   "cell_type": "code",
   "execution_count": 13,
   "id": "8a86c6d2-cc39-448f-b8cc-cac4061b891e",
   "metadata": {},
   "outputs": [
    {
     "data": {
      "text/plain": [
       "CH     7\n",
       "CU     1\n",
       "FC     4\n",
       "FF    12\n",
       "FS     1\n",
       "KC     1\n",
       "SI     7\n",
       "SL    13\n",
       "Name: pitch_type, dtype: int64"
      ]
     },
     "execution_count": 13,
     "metadata": {},
     "output_type": "execute_result"
    }
   ],
   "source": [
    "# how does it look when we look at pitch type?\n",
    "pt_hr = ohtani21_hr.pitch_type.value_counts().sort_index(ascending=True)\n",
    "pt_hr"
   ]
  },
  {
   "cell_type": "code",
   "execution_count": 14,
   "id": "111755b4-456d-43a7-ad7d-e8f425955b1d",
   "metadata": {},
   "outputs": [
    {
     "data": {
      "text/plain": [
       "CH    28\n",
       "CU    23\n",
       "FC     7\n",
       "FF    64\n",
       "FS     5\n",
       "KC     8\n",
       "SI    13\n",
       "SL    40\n",
       "Name: pitch_type, dtype: int64"
      ]
     },
     "execution_count": 14,
     "metadata": {},
     "output_type": "execute_result"
    }
   ],
   "source": [
    "pt_so = ohtani21_so.pitch_type.value_counts().sort_index(ascending=True)\n",
    "pt_so"
   ]
  },
  {
   "cell_type": "code",
   "execution_count": 15,
   "id": "347b7962-ea52-43f3-b678-fd75a08ffe16",
   "metadata": {},
   "outputs": [
    {
     "data": {
      "text/plain": [
       "FC    0.571429\n",
       "SI    0.538462\n",
       "SL    0.325000\n",
       "CH    0.250000\n",
       "FS    0.200000\n",
       "FF    0.187500\n",
       "KC    0.125000\n",
       "CU    0.043478\n",
       "Name: pitch_type, dtype: float64"
      ]
     },
     "execution_count": 15,
     "metadata": {},
     "output_type": "execute_result"
    }
   ],
   "source": [
    "# which pitch types against Ohtani were more likely to produce home runs than strike outs?\n",
    "hr_vs_so = pt_hr/pt_so\n",
    "hr_vs_so.sort_values(ascending=False)"
   ]
  },
  {
   "cell_type": "code",
   "execution_count": 16,
   "id": "9c34a95f-a1fb-4021-84bf-61a4c61dc7c7",
   "metadata": {},
   "outputs": [
    {
     "data": {
      "text/plain": [
       "pitch_type\n",
       "CH    85.814286\n",
       "CU    80.700000\n",
       "FC    89.525000\n",
       "FF    94.416667\n",
       "FS    89.300000\n",
       "KC    79.400000\n",
       "SI    93.200000\n",
       "SL    83.569231\n",
       "Name: release_speed, dtype: float64"
      ]
     },
     "execution_count": 16,
     "metadata": {},
     "output_type": "execute_result"
    }
   ],
   "source": [
    "# for the pitches that Ohtani homered off of, was there a lot of variation in speed by pitch type\n",
    "ohtani21_hr.groupby(\"pitch_type\")[\"release_speed\"].mean()"
   ]
  },
  {
   "cell_type": "code",
   "execution_count": 17,
   "id": "729d1a78-5868-48a9-8725-1665e3be04b9",
   "metadata": {},
   "outputs": [
    {
     "data": {
      "text/plain": [
       "pitch_type\n",
       "CH    84.125000\n",
       "CU    80.447826\n",
       "FC    89.914286\n",
       "FF    94.829687\n",
       "FS    85.620000\n",
       "KC    84.175000\n",
       "SI    94.784615\n",
       "SL    83.367500\n",
       "Name: release_speed, dtype: float64"
      ]
     },
     "execution_count": 17,
     "metadata": {},
     "output_type": "execute_result"
    }
   ],
   "source": [
    "# for the pitches that Ohtani struck out on, was there a lot of variation in speed by pitch type\n",
    "ohtani21_so.groupby(\"pitch_type\")[\"release_speed\"].mean()"
   ]
  },
  {
   "cell_type": "code",
   "execution_count": 18,
   "id": "3f70503a-6f78-4b67-9d11-3bdbbdb9c0b5",
   "metadata": {},
   "outputs": [
    {
     "data": {
      "image/png": "[encoded data removed]",
      "text/plain": [
       "<Figure size 432x288 with 2 Axes>"
      ]
     },
     "metadata": {
      "needs_background": "light"
     },
     "output_type": "display_data"
    }
   ],
   "source": [
    "fig, axs = plt.subplots(ncols=2, sharex=True, sharey=True)\n",
    "sns.boxplot(y=\"release_speed\", x=\"pitch_type\", data=ohtani21_hr, ax=axs[0])\n",
    "sns.boxplot(y=\"release_speed\", x=\"pitch_type\", data=ohtani21_so, ax=axs[1])\n",
    "plt.show()"
   ]
  },
  {
   "cell_type": "markdown",
   "id": "fd0d3ece-9948-4204-8eb7-a939ecee1c21",
   "metadata": {},
   "source": [
    "## Let's expand the scope a bit\n",
    "### While Ohtani was among the top sluggers in 2021, homeruns still only represented a small portion of all his plate appearances. What made Ohtani formidable as a batter wasn't just that he hit a lot of homeruns, but that he hit hard. In fact, his slugging average of .592 was the fourth highest in all of MLB in 2021. In other words, what made him formidable was the he hit for extra bases a lot.\n",
    "### So let's look all at extra base hits (doubles, triples, and home runs), not just home runs."
   ]
  },
  {
   "cell_type": "code",
   "execution_count": 21,
   "id": "11f3b7aa-059b-4e5d-b8a6-9a62295d5a3e",
   "metadata": {},
   "outputs": [],
   "source": [
    "# filter data for extra base hits\n",
    "ohtani21_eb = ohtani21[(ohtani21.events==\"home_run\") | (ohtani21.events==\"double\") | (ohtani21.events==\"triple\")]"
   ]
  },
  {
   "cell_type": "code",
   "execution_count": 23,
   "id": "d09b6522-2e9b-46f8-9cec-5279f45689ce",
   "metadata": {},
   "outputs": [
    {
     "data": {
      "image/png": "[encoded data removed]",
      "text/plain": [
       "<Figure size 432x288 with 1 Axes>"
      ]
     },
     "metadata": {
      "needs_background": "light"
     },
     "output_type": "display_data"
    }
   ],
   "source": [
    "# how fast were the pitches that Ohtani hit extra bases for?\n",
    "sns.boxplot(x=\"release_speed\", data=ohtani21_eb)\n",
    "plt.show()"
   ]
  },
  {
   "cell_type": "markdown",
   "id": "2b917a72-853e-4c58-a470-91d50864aeb6",
   "metadata": {},
   "source": [
    "### It appears that Ohtani hit for extra bases typically on balls in the high 80 mph range. Let's compare to his homeruns. Is this the pattern for extra base hits in general, or did homeruns in particular seem to be different?"
   ]
  },
  {
   "cell_type": "code",
   "execution_count": 25,
   "id": "de67db68-5198-4a4a-9cbf-87e9bc89b0cc",
   "metadata": {},
   "outputs": [
    {
     "data": {
      "image/png": "[encoded data removed]",
      "text/plain": [
       "<Figure size 432x288 with 1 Axes>"
      ]
     },
     "metadata": {
      "needs_background": "light"
     },
     "output_type": "display_data"
    }
   ],
   "source": [
    "sns.boxplot(x=\"release_speed\", y=\"events\", data=ohtani21_eb)\n",
    "plt.show()"
   ]
  },
  {
   "cell_type": "code",
   "execution_count": 28,
   "id": "b228db42-1cae-4047-a9f9-55fc4b7c6cbd",
   "metadata": {},
   "outputs": [
    {
     "data": {
      "image/png": "[encoded data removed]",
      "text/plain": [
       "<Figure size 432x288 with 1 Axes>"
      ]
     },
     "metadata": {
      "needs_background": "light"
     },
     "output_type": "display_data"
    }
   ],
   "source": [
    "sns.countplot(x=\"pitch_type\", hue=\"events\", data=ohtani21_eb)\n",
    "plt.show()"
   ]
  },
  {
   "cell_type": "code",
   "execution_count": 29,
   "id": "c0c41337-f566-4b02-b734-36d29b9f5b5b",
   "metadata": {},
   "outputs": [
    {
     "data": {
      "text/plain": [
       "events    pitch_type\n",
       "double    FF            0.269231\n",
       "          SI            0.230769\n",
       "          CU            0.192308\n",
       "          SL            0.153846\n",
       "          CH            0.076923\n",
       "          FS            0.038462\n",
       "          KC            0.038462\n",
       "home_run  SL            0.282609\n",
       "          FF            0.260870\n",
       "          CH            0.152174\n",
       "          SI            0.152174\n",
       "          FC            0.086957\n",
       "          CU            0.021739\n",
       "          FS            0.021739\n",
       "          KC            0.021739\n",
       "triple    CH            0.375000\n",
       "          CU            0.250000\n",
       "          SL            0.250000\n",
       "          SI            0.125000\n",
       "Name: pitch_type, dtype: float64"
      ]
     },
     "execution_count": 29,
     "metadata": {},
     "output_type": "execute_result"
    }
   ],
   "source": [
    "ohtani21_eb.groupby(\"events\")[\"pitch_type\"].value_counts(normalize=True)"
   ]
  },
  {
   "cell_type": "code",
   "execution_count": null,
   "id": "fda68945-1749-48f6-a046-5525060d313e",
   "metadata": {},
   "outputs": [],
   "source": []
  }
 ],
 "metadata": {
  "kernelspec": {
   "display_name": "PythonData",
   "language": "python",
   "name": "pythondata"
  },
  "language_info": {
   "codemirror_mode": {
    "name": "ipython",
    "version": 3
   },
   "file_extension": ".py",
   "mimetype": "text/x-python",
   "name": "python",
   "nbconvert_exporter": "python",
   "pygments_lexer": "ipython3",
   "version": "3.9.4"
  }
 },
 "nbformat": 4,
 "nbformat_minor": 5
}
